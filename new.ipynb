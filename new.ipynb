{
  "nbformat": 4,
  "nbformat_minor": 0,
  "metadata": {
    "colab": {
      "provenance": [],
      "authorship_tag": "ABX9TyO63Hi57juGHfx2/ukMjdCm",
      "include_colab_link": true
    },
    "kernelspec": {
      "name": "python3",
      "display_name": "Python 3"
    },
    "language_info": {
      "name": "python"
    }
  },
  "cells": [
    {
      "cell_type": "markdown",
      "metadata": {
        "id": "view-in-github",
        "colab_type": "text"
      },
      "source": [
        "<a href=\"https://colab.research.google.com/github/khushibora9/social_media_handson/blob/main/new.ipynb\" target=\"_parent\"><img src=\"https://colab.research.google.com/assets/colab-badge.svg\" alt=\"Open In Colab\"/></a>"
      ]
    },
    {
      "cell_type": "code",
      "source": [
        "#12. Case Study: Social Media Engagement (Skewness and Kurtosis)\n",
        "#  • Objective: Analyze the distribution of user engagement metrics (likes, shares) on social\n",
        "# media.\n",
        "#  • Dataset: Social media posts dataset.\n",
        "#  • Python Focus: pandas, matplotlib, seaborn.\n",
        "#  • Key Concepts:\n",
        "#  o Calculate skewness and kurtosis of likes and shares.\n",
        "#  o Visualize the distribution using histograms.\n",
        "\n",
        "\n",
        "\n",
        "\n",
        "\n",
        "# importing libraries\n",
        "import pandas as pd\n",
        "import matplotlib.pyplot as plt\n",
        "url='/content/sentimentdataset.csv'\n",
        "\n",
        "#extracting data\n",
        "df=pd.read_csv(url)\n",
        "#displaying few lines of data set\n",
        "print(df.head())"
      ],
      "metadata": {
        "colab": {
          "base_uri": "https://localhost:8080/"
        },
        "id": "_lskTatXEuD_",
        "outputId": "f200efa3-94ef-4404-f07b-7398bff09591"
      },
      "execution_count": null,
      "outputs": [
        {
          "output_type": "stream",
          "name": "stdout",
          "text": [
            "   Unnamed: 0.1  Unnamed: 0  \\\n",
            "0             0           0   \n",
            "1             1           1   \n",
            "2             2           2   \n",
            "3             3           3   \n",
            "4             4           4   \n",
            "\n",
            "                                                Text    Sentiment  \\\n",
            "0   Enjoying a beautiful day at the park!        ...   Positive     \n",
            "1   Traffic was terrible this morning.           ...   Negative     \n",
            "2   Just finished an amazing workout! 💪          ...   Positive     \n",
            "3   Excited about the upcoming weekend getaway!  ...   Positive     \n",
            "4   Trying out a new recipe for dinner tonight.  ...   Neutral      \n",
            "\n",
            "             Timestamp            User     Platform  \\\n",
            "0  2023-01-15 12:30:00   User123          Twitter     \n",
            "1  2023-01-15 08:45:00   CommuterX        Twitter     \n",
            "2  2023-01-15 15:45:00   FitnessFan      Instagram    \n",
            "3  2023-01-15 18:20:00   AdventureX       Facebook    \n",
            "4  2023-01-15 19:55:00   ChefCook        Instagram    \n",
            "\n",
            "                                     Hashtags  Retweets  Likes       Country  \\\n",
            "0   #Nature #Park                                  15.0   30.0     USA         \n",
            "1   #Traffic #Morning                               5.0   10.0     Canada      \n",
            "2   #Fitness #Workout                              20.0   40.0   USA           \n",
            "3   #Travel #Adventure                              8.0   15.0     UK          \n",
            "4   #Cooking #Food                                 12.0   25.0    Australia    \n",
            "\n",
            "   Year  Month  Day  Hour  \n",
            "0  2023      1   15    12  \n",
            "1  2023      1   15     8  \n",
            "2  2023      1   15    15  \n",
            "3  2023      1   15    18  \n",
            "4  2023      1   15    19  \n"
          ]
        }
      ]
    },
    {
      "cell_type": "markdown",
      "source": [
        "ASSIGNMENT KHUSHI BORA [2426MCA2242]"
      ],
      "metadata": {
        "id": "bERrqnrckFIv"
      }
    },
    {
      "cell_type": "code",
      "source": [
        "#calculating skewness likes and shares\n",
        "skewness=df['Likes'].skew()\n",
        "print(f'skewness of likes:{skewness}')\n",
        "skewness1=df['Retweets'].skew()\n",
        "print(f'skewness of shares:{skewness1}')"
      ],
      "metadata": {
        "colab": {
          "base_uri": "https://localhost:8080/"
        },
        "id": "Px2GUyM4h-m9",
        "outputId": "422544c8-4a30-4516-80b5-21408129a904"
      },
      "execution_count": null,
      "outputs": [
        {
          "output_type": "stream",
          "name": "stdout",
          "text": [
            "skewness of likes:0.37813850875791316\n",
            "skewness of shares:0.36341226758224254\n"
          ]
        }
      ]
    },
    {
      "cell_type": "code",
      "source": [
        "#calculating kurtosis of likes and shares\n",
        "kurtosis=df['Likes'].kurt()\n",
        "print(f'kurtosis:{kurtosis}')\n",
        "kurtosis1=df['Retweets'].kurt()\n",
        "print(f'kurtosis:{kurtosis1}')\n"
      ],
      "metadata": {
        "colab": {
          "base_uri": "https://localhost:8080/"
        },
        "id": "ys7mWq-fiAUE",
        "outputId": "0db821ce-94ea-4df0-861a-a8303d84caea"
      },
      "execution_count": null,
      "outputs": [
        {
          "output_type": "stream",
          "name": "stdout",
          "text": [
            "kurtosis:0.0008659267198405374\n",
            "kurtosis:-0.016312891232299176\n"
          ]
        }
      ]
    },
    {
      "cell_type": "code",
      "source": [
        "#visualtion of likes and shares\n",
        "df['Likes'].plot(kind='hist',bins=20,title='likes')\n",
        "plt.xlabel('Likes')\n",
        "plt.show()\n",
        "df['Retweets'].plot(kind='hist',bins=20,title='Shares')\n",
        "plt.xlabel('Shares')\n",
        "plt.show()\n"
      ],
      "metadata": {
        "colab": {
          "base_uri": "https://localhost:8080/",
          "height": 927
        },
        "id": "u8_k2jIriKid",
        "outputId": "b282d035-cf68-4d46-a2a0-7f1387c29959"
      },
      "execution_count": null,
      "outputs": [
        {
          "output_type": "display_data",
          "data": {
            "text/plain": [
              "<Figure size 640x480 with 1 Axes>"
            ],
            "image/png": "[encoded data removed]"
          },
          "metadata": {}
        },
        {
          "output_type": "display_data",
          "data": {
            "text/plain": [
              "<Figure size 640x480 with 1 Axes>"
            ],
            "image/png": "[encoded data removed]"
          },
          "metadata": {}
        }
      ]
    }
  ]
}